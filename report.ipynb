{
 "cells": [
  {
   "cell_type": "markdown",
   "id": "2347ca1c",
   "metadata": {},
   "source": [
    "# Which insights did you gain from your EDA? Were any columns highly correlated? If so, name them.\n",
    "\n",
    "- The most represented Genre in the datafram is pop music and hiphop is the least represented\n",
    "- Sadness is the most reocurring topic and feelings id the least reocurring\n",
    "- Country and pop music account for th highest number of Sadness songs and they are the most reoccuring genres which is why sadness shows up more than any other topic\n",
    "- most of the hip hop songs are obscene but pop has the highest level of obscene songs"
   ]
  },
  {
   "cell_type": "markdown",
   "id": "2ae25ab5",
   "metadata": {},
   "source": [
    "# How did you determine which columns to drop or keep? If your EDA informed this process, explain which insights you used to determine which columns were not needed. \n",
    "\n",
    "- I dropped all the columns that had object types. Since the modeling can't use objects it doesn't make sense to keep the objects"
   ]
  }
 ],
 "metadata": {
  "language_info": {
   "name": "python"
  }
 },
 "nbformat": 4,
 "nbformat_minor": 5
}
