{
 "cells": [
  {
   "cell_type": "markdown",
   "id": "2347ca1c",
   "metadata": {},
   "source": [
    "# Which insights did you gain from your EDA? Were any columns highly correlated? If so, name them.\n",
    "\n",
    "- The most represented Genre in the datafram is pop music and hiphop is the least represented\n",
    "- Sadness is the most reocurring topic and feelings id the least reocurring\n",
    "- Country and pop music account for th highest number of Sadness songs and they are the most reoccuring genres which is why sadness shows up more than any other topic\n",
    "- most of the hip hop songs are obscene but pop has the highest level of obscene songs"
   ]
  },
  {
   "cell_type": "markdown",
   "id": "2ae25ab5",
   "metadata": {},
   "source": [
    "# How did you determine which columns to drop or keep? If your EDA informed this process, explain which insights you used to determine which columns were not needed. \n",
    "\n",
    "- I dropped all the columns that had object types. Since the modeling can't use objects it doesn't make sense to keep the objects\n",
    "- The unnamed: 0 column was also dropped because it doesn't add anything to the modeling. it is just there to list the number of rows\n",
    "- release_date was dropped because the year the song was release doesn't give any relevant information that we can use to determin what cluster the song belongs to"
   ]
  },
  {
   "cell_type": "markdown",
   "id": "0f952248",
   "metadata": {},
   "source": [
    "# What was the optimal number of clusters in your cluster model? Explain how you determined this value.\n",
    "\n",
    "- The Optimal number of clusters was 11. I determined this value by using the silhouette plot where the highest point seemed to be at 11 clusters (k)"
   ]
  },
  {
   "cell_type": "markdown",
   "id": "c224af3f",
   "metadata": {},
   "source": [
    "# Take a look at the respective songs that fell into your clusters. Describe these clusters in human terms to the best of your ability using the columns in your dataset (for example high-gospel songs, low-gospel songs, etc). Feel free to listen to these songs as well to get a sense of what nuance your algorithm picked up on.\n",
    "\n",
    "- Cluster 0': movement/places, violence\n",
    "- Cluster 1': music, light/visual perceptions\n",
    "- Cluster 2': dating, shake the audience\n",
    "- Cluster 3': obscene  shake the audience\n",
    "- Cluster 4': violence, family/spiritual, light/visual perceptions\n",
    "- Cluster 5': world/life, family/spiritual, 'light/visual perceptions\n",
    "- Cluster 6': night/time, shake the audience\n",
    "- Cluster 7': romantic, light/visual perceptions\n",
    "- Cluster 8': feelings, shake the audience\n",
    "- Cluster 9': family/gospel, family/spiritual\n",
    "- Cluster 10': sadness communication"
   ]
  }
 ],
 "metadata": {
  "language_info": {
   "name": "python"
  }
 },
 "nbformat": 4,
 "nbformat_minor": 5
}
