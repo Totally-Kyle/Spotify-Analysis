{
 "cells": [
  {
   "cell_type": "markdown",
   "id": "2347ca1c",
   "metadata": {},
   "source": [
    "# Which insights did you gain from your EDA? Were any columns highly correlated? If so, name them.\n",
    "\n",
    "- The most represented Genre in the datafram is pop music and hiphop is the least represented\n",
    "- Sadness is the most reocurring topic and feelings id the least reocurring\n",
    "- Country and pop music account for th highest number of Sadness songs and they are the most reoccuring genres which is why sadness shows up more than any other topic\n",
    "- most of the hip hop songs are obscene but pop has the highest level of obscene songs"
   ]
  },
  {
   "cell_type": "markdown",
   "id": "2ae25ab5",
   "metadata": {},
   "source": [
    "# How did you determine which columns to drop or keep? If your EDA informed this process, explain which insights you used to determine which columns were not needed. \n",
    "\n",
    "- I dropped all the columns that had object types. Since the modeling can't use objects it doesn't make sense to keep the objects\n",
    "- The unnamed: 0 column was also dropped because it doesn't add anything to the modeling. it is just there to list the number of rows\n",
    "- release_date was dropped because the year the song was release doesn't give any relevant information that we can use to determin what cluster the song belongs to"
   ]
  },
  {
   "cell_type": "markdown",
   "id": "0f952248",
   "metadata": {},
   "source": [
    "# What was the optimal number of clusters in your cluster model? Explain how you determined this value.\n",
    "\n",
    "-"
   ]
  }
 ],
 "metadata": {
  "language_info": {
   "name": "python"
  }
 },
 "nbformat": 4,
 "nbformat_minor": 5
}
